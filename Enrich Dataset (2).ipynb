{
 "cells": [
  {
   "cell_type": "code",
   "execution_count": 1,
   "id": "6079c84c",
   "metadata": {},
   "outputs": [],
   "source": [
    "# RUN THIS CELL\n",
    "import itertools\n",
    "\n",
    "import numpy as np\n",
    "import pandas as pd\n",
    "import seaborn as sns\n",
    "import matplotlib.pyplot as plt\n",
    "\n",
    "from sklearn.model_selection import train_test_split\n",
    "from sklearn.preprocessing import PolynomialFeatures\n",
    "from sklearn.preprocessing import StandardScaler\n",
    "from sklearn.model_selection import cross_validate\n",
    "\n",
    "from sklearn.linear_model import LogisticRegression\n",
    "from sklearn.neighbors import KNeighborsClassifier\n",
    "from sklearn.linear_model import LogisticRegressionCV\n",
    "from sklearn.linear_model import LinearRegression\n",
    "\n",
    "from sklearn.metrics import accuracy_score\n",
    "from sklearn.metrics import roc_curve\n",
    "from sklearn.metrics import roc_auc_score\n",
    "from sklearn.metrics import mean_squared_error\n",
    "from sklearn.metrics import r2_score\n",
    "\n",
    "# pandas tricks for better display\n",
    "pd.options.display.max_columns = 50  \n",
    "pd.options.display.max_rows = 500     \n",
    "pd.options.display.max_colwidth = 100\n",
    "pd.options.display.precision = 3\n",
    "\n",
    "%matplotlib inline"
   ]
  },
  {
   "cell_type": "code",
   "execution_count": 2,
   "id": "21391029",
   "metadata": {
    "scrolled": true
   },
   "outputs": [
    {
     "ename": "NameError",
     "evalue": "name 'data_dict' is not defined",
     "output_type": "error",
     "traceback": [
      "\u001b[0;31m---------------------------------------------------------------------------\u001b[0m",
      "\u001b[0;31mNameError\u001b[0m                                 Traceback (most recent call last)",
      "\u001b[0;32m/var/folders/zh/467jqd_55y773f1dwx6k_f440000gn/T/ipykernel_41337/1904173855.py\u001b[0m in \u001b[0;36m<module>\u001b[0;34m\u001b[0m\n\u001b[1;32m      2\u001b[0m \u001b[0mfull_df\u001b[0m \u001b[0;34m=\u001b[0m \u001b[0mpd\u001b[0m\u001b[0;34m.\u001b[0m\u001b[0mDataFrame\u001b[0m\u001b[0;34m(\u001b[0m\u001b[0mnp\u001b[0m\u001b[0;34m.\u001b[0m\u001b[0mloadtxt\u001b[0m\u001b[0;34m(\u001b[0m\u001b[0;34m(\u001b[0m\u001b[0;34m'data/BYAREA_COUNTY.TXT'\u001b[0m\u001b[0;34m)\u001b[0m\u001b[0;34m,\u001b[0m \u001b[0mdtype\u001b[0m \u001b[0;34m=\u001b[0m \u001b[0mstr\u001b[0m\u001b[0;34m,\u001b[0m \u001b[0mdelimiter\u001b[0m \u001b[0;34m=\u001b[0m \u001b[0;34m'|'\u001b[0m\u001b[0;34m)\u001b[0m\u001b[0;34m,\u001b[0m \u001b[0mcolumns\u001b[0m \u001b[0;34m=\u001b[0m \u001b[0mcolnames\u001b[0m\u001b[0;34m)\u001b[0m\u001b[0;34m[\u001b[0m\u001b[0;36m1\u001b[0m\u001b[0;34m:\u001b[0m\u001b[0;34m]\u001b[0m\u001b[0;34m\u001b[0m\u001b[0;34m\u001b[0m\u001b[0m\n\u001b[1;32m      3\u001b[0m \u001b[0;34m\u001b[0m\u001b[0m\n\u001b[0;32m----> 4\u001b[0;31m \u001b[0mbyarea_county\u001b[0m \u001b[0;34m=\u001b[0m \u001b[0mdata_dict\u001b[0m\u001b[0;34m[\u001b[0m\u001b[0;34m'BYAREA_COUNTY'\u001b[0m\u001b[0;34m]\u001b[0m\u001b[0;34m\u001b[0m\u001b[0;34m\u001b[0m\u001b[0m\n\u001b[0m\u001b[1;32m      5\u001b[0m \u001b[0mbyarea_county\u001b[0m \u001b[0;34m=\u001b[0m \u001b[0mbyarea_county\u001b[0m\u001b[0;34m.\u001b[0m\u001b[0mreplace\u001b[0m\u001b[0;34m(\u001b[0m\u001b[0;34m\"~\"\u001b[0m\u001b[0;34m,\u001b[0m \u001b[0mnp\u001b[0m\u001b[0;34m.\u001b[0m\u001b[0mnan\u001b[0m\u001b[0;34m)\u001b[0m\u001b[0;34m\u001b[0m\u001b[0;34m\u001b[0m\u001b[0m\n\u001b[1;32m      6\u001b[0m \u001b[0mbyarea_county\u001b[0m \u001b[0;34m=\u001b[0m \u001b[0mbyarea_county\u001b[0m\u001b[0;34m.\u001b[0m\u001b[0mreplace\u001b[0m\u001b[0;34m(\u001b[0m\u001b[0;34m\".\"\u001b[0m\u001b[0;34m,\u001b[0m \u001b[0mnp\u001b[0m\u001b[0;34m.\u001b[0m\u001b[0mnan\u001b[0m\u001b[0;34m)\u001b[0m\u001b[0;34m\u001b[0m\u001b[0;34m\u001b[0m\u001b[0m\n",
      "\u001b[0;31mNameError\u001b[0m: name 'data_dict' is not defined"
     ]
    }
   ],
   "source": [
    "colnames = np.loadtxt(('data/BYAREA_COUNTY.TXT'), dtype = str, delimiter = '|', max_rows = 1)\n",
    "byarea_county = pd.DataFrame(np.loadtxt(('data/BYAREA_COUNTY.TXT'), dtype = str, delimiter = '|'), columns = colnames)[1:]"
   ]
  },
  {
   "cell_type": "code",
   "execution_count": 41,
   "id": "a0da24e1",
   "metadata": {},
   "outputs": [],
   "source": [
    "# Source: https://data.cdc.gov/Health-Statistics/Social-Vulnerability-Index-2018-United-States-coun/48va-t53r\n",
    "social_vulnerability = pd.read_csv(\"data/social_vulnerability_data.csv\", dtype={'FIPS': 'str'})"
   ]
  },
  {
   "cell_type": "code",
   "execution_count": 34,
   "id": "8ed209b1",
   "metadata": {},
   "outputs": [
    {
     "name": "stderr",
     "output_type": "stream",
     "text": [
      "/var/folders/zh/467jqd_55y773f1dwx6k_f440000gn/T/ipykernel_41337/374063700.py:5: FutureWarning: The default value of regex will change from True to False in a future version.\n",
      "  byarea_county[\"FIPS\"] = byarea_county[\"AREA\"].str.replace(r'[^(]*\\(|\\)[^)]*', '').to_int()\n"
     ]
    },
    {
     "ename": "AttributeError",
     "evalue": "'Series' object has no attribute 'to_int'",
     "output_type": "error",
     "traceback": [
      "\u001b[0;31m---------------------------------------------------------------------------\u001b[0m",
      "\u001b[0;31mAttributeError\u001b[0m                            Traceback (most recent call last)",
      "\u001b[0;32m/var/folders/zh/467jqd_55y773f1dwx6k_f440000gn/T/ipykernel_41337/374063700.py\u001b[0m in \u001b[0;36m<module>\u001b[0;34m\u001b[0m\n\u001b[1;32m      3\u001b[0m \u001b[0mbyarea_county\u001b[0m \u001b[0;34m=\u001b[0m \u001b[0mbyarea_county\u001b[0m\u001b[0;34m.\u001b[0m\u001b[0mreplace\u001b[0m\u001b[0;34m(\u001b[0m\u001b[0;34m\"+\"\u001b[0m\u001b[0;34m,\u001b[0m \u001b[0mnp\u001b[0m\u001b[0;34m.\u001b[0m\u001b[0mnan\u001b[0m\u001b[0;34m)\u001b[0m\u001b[0;34m\u001b[0m\u001b[0;34m\u001b[0m\u001b[0m\n\u001b[1;32m      4\u001b[0m \u001b[0mbyarea_county\u001b[0m \u001b[0;34m=\u001b[0m \u001b[0mbyarea_county\u001b[0m\u001b[0;34m.\u001b[0m\u001b[0mreplace\u001b[0m\u001b[0;34m(\u001b[0m\u001b[0;34m\"-\"\u001b[0m\u001b[0;34m,\u001b[0m \u001b[0mnp\u001b[0m\u001b[0;34m.\u001b[0m\u001b[0mnan\u001b[0m\u001b[0;34m)\u001b[0m\u001b[0;34m\u001b[0m\u001b[0;34m\u001b[0m\u001b[0m\n\u001b[0;32m----> 5\u001b[0;31m \u001b[0mbyarea_county\u001b[0m\u001b[0;34m[\u001b[0m\u001b[0;34m\"FIPS\"\u001b[0m\u001b[0;34m]\u001b[0m \u001b[0;34m=\u001b[0m \u001b[0mbyarea_county\u001b[0m\u001b[0;34m[\u001b[0m\u001b[0;34m\"AREA\"\u001b[0m\u001b[0;34m]\u001b[0m\u001b[0;34m.\u001b[0m\u001b[0mstr\u001b[0m\u001b[0;34m.\u001b[0m\u001b[0mreplace\u001b[0m\u001b[0;34m(\u001b[0m\u001b[0;34mr'[^(]*\\(|\\)[^)]*'\u001b[0m\u001b[0;34m,\u001b[0m \u001b[0;34m''\u001b[0m\u001b[0;34m)\u001b[0m\u001b[0;34m.\u001b[0m\u001b[0mto_int\u001b[0m\u001b[0;34m(\u001b[0m\u001b[0;34m)\u001b[0m\u001b[0;34m\u001b[0m\u001b[0;34m\u001b[0m\u001b[0m\n\u001b[0m\u001b[1;32m      6\u001b[0m county_aggregated = byarea_county.loc[(byarea_county['SITE'] == \"All Cancer Sites Combined\") &\n\u001b[1;32m      7\u001b[0m                                       \u001b[0;34m(\u001b[0m\u001b[0mbyarea_county\u001b[0m\u001b[0;34m[\u001b[0m\u001b[0;34m'RACE'\u001b[0m\u001b[0;34m]\u001b[0m \u001b[0;34m==\u001b[0m \u001b[0;34m\"All Races\"\u001b[0m\u001b[0;34m)\u001b[0m \u001b[0;34m&\u001b[0m\u001b[0;34m\u001b[0m\u001b[0;34m\u001b[0m\u001b[0m\n",
      "\u001b[0;32m/opt/anaconda3/envs/cs109a/lib/python3.9/site-packages/pandas/core/generic.py\u001b[0m in \u001b[0;36m__getattr__\u001b[0;34m(self, name)\u001b[0m\n\u001b[1;32m   5485\u001b[0m         ):\n\u001b[1;32m   5486\u001b[0m             \u001b[0;32mreturn\u001b[0m \u001b[0mself\u001b[0m\u001b[0;34m[\u001b[0m\u001b[0mname\u001b[0m\u001b[0;34m]\u001b[0m\u001b[0;34m\u001b[0m\u001b[0;34m\u001b[0m\u001b[0m\n\u001b[0;32m-> 5487\u001b[0;31m         \u001b[0;32mreturn\u001b[0m \u001b[0mobject\u001b[0m\u001b[0;34m.\u001b[0m\u001b[0m__getattribute__\u001b[0m\u001b[0;34m(\u001b[0m\u001b[0mself\u001b[0m\u001b[0;34m,\u001b[0m \u001b[0mname\u001b[0m\u001b[0;34m)\u001b[0m\u001b[0;34m\u001b[0m\u001b[0;34m\u001b[0m\u001b[0m\n\u001b[0m\u001b[1;32m   5488\u001b[0m \u001b[0;34m\u001b[0m\u001b[0m\n\u001b[1;32m   5489\u001b[0m     \u001b[0;32mdef\u001b[0m \u001b[0m__setattr__\u001b[0m\u001b[0;34m(\u001b[0m\u001b[0mself\u001b[0m\u001b[0;34m,\u001b[0m \u001b[0mname\u001b[0m\u001b[0;34m:\u001b[0m \u001b[0mstr\u001b[0m\u001b[0;34m,\u001b[0m \u001b[0mvalue\u001b[0m\u001b[0;34m)\u001b[0m \u001b[0;34m->\u001b[0m \u001b[0;32mNone\u001b[0m\u001b[0;34m:\u001b[0m\u001b[0;34m\u001b[0m\u001b[0;34m\u001b[0m\u001b[0m\n",
      "\u001b[0;31mAttributeError\u001b[0m: 'Series' object has no attribute 'to_int'"
     ]
    }
   ],
   "source": [
    "byarea_county = byarea_county.replace(\"~\", np.nan)\n",
    "byarea_county = byarea_county.replace(\".\", np.nan)\n",
    "byarea_county = byarea_county.replace(\"+\", np.nan)\n",
    "byarea_county = byarea_county.replace(\"-\", np.nan)\n",
    "byarea_county[\"FIPS\"] = byarea_county[\"AREA\"].str.replace(r'[^(]*\\(|\\)[^)]*', '').to_int()\n",
    "county_aggregated = byarea_county.loc[(byarea_county['SITE'] == \"All Cancer Sites Combined\") &\n",
    "                                      (byarea_county['RACE'] == \"All Races\") &\n",
    "                                      (byarea_county['SEX'] == \"Male and Female\")]\n",
    "county_aggregated_incidence = county_aggregated.loc[county_aggregated['EVENT_TYPE'] == \"Incidence\"]\n",
    "county_aggregated_mortality = county_aggregated.loc[county_aggregated['EVENT_TYPE'] == \"Mortality\"]"
   ]
  },
  {
   "cell_type": "code",
   "execution_count": 43,
   "id": "8c463105",
   "metadata": {},
   "outputs": [],
   "source": [
    "social_predictors = [\n",
    "    \"FIPS\",\n",
    "    \"E_TOTPOP\", # population count\n",
    "    \"E_PCI\", # per-capita income\n",
    "    # \"E_POV\", # persons below poverty estimate\n",
    "    # \"E_UNEMP\", # count of unemployed\n",
    "    # \"E_NOHSDP\", # count non-high school grads\n",
    "    # \"E_DISABL\", # count of disabled\n",
    "    # \"E_MINRTY\", # count of minorities (all persons except white, non-Hispanic)\n",
    "    # \"E_MUNIT\", # count of housing structures with 10+ units\n",
    "    \"EP_UNEMP\", # unemployment rate\n",
    "    \"EP_NOHSDP\", # no high school diploma rate\n",
    "    \"EP_DISABL\", # disabled rate\n",
    "    \"EP_MINRTY\", # minority rate\n",
    "    \"EP_MUNIT\", # 10+ units rate\n",
    "    \"EP_POV\" # share below poverty\n",
    "]\n",
    "\n",
    "social_vulnerability = social_vulnerability[social_predictors]"
   ]
  },
  {
   "cell_type": "code",
   "execution_count": 46,
   "id": "d380fa88",
   "metadata": {},
   "outputs": [],
   "source": [
    "county_aggregated_enriched = county_aggregated.merge(social_vulnerability, on = \"FIPS\", how = \"left\")\n",
    "county_aggregated_enriched.to_csv(\"enriched_county_data.csv\")"
   ]
  }
 ],
 "metadata": {
  "kernelspec": {
   "display_name": "Python 3 (ipykernel)",
   "language": "python",
   "name": "python3"
  },
  "language_info": {
   "codemirror_mode": {
    "name": "ipython",
    "version": 3
   },
   "file_extension": ".py",
   "mimetype": "text/x-python",
   "name": "python",
   "nbconvert_exporter": "python",
   "pygments_lexer": "ipython3",
   "version": "3.9.6"
  }
 },
 "nbformat": 4,
 "nbformat_minor": 5
}
